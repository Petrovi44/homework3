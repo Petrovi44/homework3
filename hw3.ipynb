{
 "cells": [
  {
   "cell_type": "code",
   "execution_count": 8,
   "metadata": {},
   "outputs": [
    {
     "name": "stdout",
     "output_type": "stream",
     "text": [
      "5\n",
      "10\n"
     ]
    }
   ],
   "source": [
    "a=int(input())\n",
    "if a>0:\n",
    "    a=a*2\n",
    "print (a)\n"
   ]
  },
  {
   "cell_type": "code",
   "execution_count": 18,
   "metadata": {},
   "outputs": [
    {
     "name": "stdout",
     "output_type": "stream",
     "text": [
      "25\n",
      "35\n",
      "60 60\n"
     ]
    }
   ],
   "source": [
    "a=int(input())\n",
    "b=int(input())\n",
    "if a==b:\n",
    "    a=0 ;   b=0\n",
    "else:\n",
    "    c=a+b;    a=c;    b=c\n",
    "print(a,b)\n",
    "    "
   ]
  },
  {
   "cell_type": "code",
   "execution_count": 25,
   "metadata": {},
   "outputs": [
    {
     "name": "stdout",
     "output_type": "stream",
     "text": [
      "5\n",
      "6\n",
      "5\n",
      "введіть різні числа\n"
     ]
    }
   ],
   "source": [
    "a=int(input())\n",
    "b=int(input())\n",
    "c=int(input())\n",
    "ab=a+b; ac=a+c;bc=b+c\n",
    "if a<b and a<c:\n",
    "    print (bc)\n",
    "elif b<a and b<c:\n",
    "        print (ac)\n",
    "elif c<a and c<b:\n",
    "            print(ab)\n",
    "else :\n",
    "    print('введіть різні числа')"
   ]
  },
  {
   "cell_type": "code",
   "execution_count": 8,
   "metadata": {},
   "outputs": [
    {
     "name": "stdout",
     "output_type": "stream",
     "text": [
      "ghfghfakjhjkhajbhghjgajhgvhjghjg\n",
      "6\n",
      "21\n"
     ]
    }
   ],
   "source": [
    "a=input()\n",
    "if a.count ('a')==0:\n",
    "    print('False')\n",
    "elif a.count ('a')==1:\n",
    "    print (a.find('a'))\n",
    "else:\n",
    "    print (a.find('a'))\n",
    "    print (a.rfind('a'))\n",
    "    "
   ]
  },
  {
   "cell_type": "code",
   "execution_count": 15,
   "metadata": {},
   "outputs": [
    {
     "name": "stdout",
     "output_type": "stream",
     "text": [
      "55\n",
      "55\n",
      "110\n",
      "165\n",
      "220\n",
      "275\n",
      "330\n",
      "385\n",
      "440\n",
      "495\n",
      "550\n",
      "_______________________________________________\n",
      "55\n",
      "110\n",
      "165\n",
      "220\n",
      "275\n",
      "330\n",
      "385\n",
      "440\n",
      "495\n",
      "550\n"
     ]
    }
   ],
   "source": [
    "price=int(input())\n",
    "i=1\n",
    "while i<11:\n",
    "    print (i*price)\n",
    "    i=i+1\n",
    "print ('_______________________________________________')\n",
    "for i in range(1,11):\n",
    "    print (i*price)"
   ]
  },
  {
   "cell_type": "code",
   "execution_count": 20,
   "metadata": {},
   "outputs": [
    {
     "name": "stdout",
     "output_type": "stream",
     "text": [
      "7\n",
      "#\n",
      "##\n",
      "###\n",
      "####\n",
      "#####\n",
      "######\n",
      "#######\n"
     ]
    }
   ],
   "source": [
    "n=int(input())\n",
    "a=\"#\"\n",
    "for i in range (1,n+1):\n",
    "    print (a*i)"
   ]
  },
  {
   "cell_type": "code",
   "execution_count": 25,
   "metadata": {},
   "outputs": [
    {
     "name": "stdout",
     "output_type": "stream",
     "text": [
      "50000\n"
     ]
    }
   ],
   "source": [
    "s=0\n",
    "for i in range (0,1000):\n",
    "    if i%5==0 and i%2!=0:\n",
    "        s=s+i\n",
    "print (s)"
   ]
  },
  {
   "cell_type": "code",
   "execution_count": 31,
   "metadata": {},
   "outputs": [
    {
     "name": "stdout",
     "output_type": "stream",
     "text": [
      "За  1  день пробіг  550.0\n",
      "За  2  день пробіг  605.0\n",
      "За  3  день пробіг  665.5\n",
      "За  4  день пробіг  732.05\n",
      "За  5  день пробіг  805.25\n",
      "За  6  день пробіг  885.78\n",
      "За  7  день пробіг  974.36\n",
      "За  8  день пробіг  1071.8\n",
      "За  9  день пробіг  1178.98\n",
      "За  10  день пробіг  1296.88\n",
      "За  11  день пробіг  1426.57\n",
      "За  12  день пробіг  1569.23\n",
      "За  13  день пробіг  1726.15\n",
      "За  14  день пробіг  1898.77\n",
      "За  15  день пробіг  2088.65\n",
      "За  16  день пробіг  2297.52\n",
      "За  17  день пробіг  2527.27\n",
      "За  18  день пробіг  2780.0\n",
      "За  19  день пробіг  3058.0\n",
      "За  20  день пробіг  3363.8\n",
      "За  21  день пробіг  3700.18\n",
      "За  22  день пробіг  4070.2\n",
      "За  23  день пробіг  4477.22\n",
      "За  24  день пробіг  4924.94\n",
      "За  25  день пробіг  5417.43\n",
      "За  26  день пробіг  5959.17\n",
      "За  27  день пробіг  6555.09\n",
      "За  28  день пробіг  7210.6\n",
      "За  29  день пробіг  7931.66\n",
      "______________________________________\n",
      "29\n"
     ]
    }
   ],
   "source": [
    "i=1; sum_dist=0\n",
    "dist=500\n",
    "for i in range(1,30):\n",
    "    dist=round(dist*1.1,2)\n",
    "    print ('За ',i,\" день пробіг \",dist)\n",
    "print ('______________________________________')\n",
    "while sum_dist>42000:\n",
    "    sum_dist=dist+sum_dist\n",
    "    i=i+1\n",
    "    dist=dist*1.1\n",
    "print (i)"
   ]
  },
  {
   "cell_type": "code",
   "execution_count": 39,
   "metadata": {},
   "outputs": [
    {
     "name": "stdout",
     "output_type": "stream",
     "text": [
      "0\n"
     ]
    }
   ],
   "source": [
    "dob=1\n",
    "for i in range (-23,12):\n",
    "    dob=dob*i\n",
    "print(dob)"
   ]
  },
  {
   "cell_type": "code",
   "execution_count": 59,
   "metadata": {},
   "outputs": [
    {
     "name": "stdout",
     "output_type": "stream",
     "text": [
      "10\n",
      "1\n",
      "1\n",
      "2\n",
      "3\n",
      "5\n",
      "8\n",
      "13\n",
      "21\n",
      "34\n",
      "55\n"
     ]
    }
   ],
   "source": [
    "n=int(input())\n",
    "j=1;a=0;b=1\n",
    "print (b)\n",
    "while j<(n):\n",
    "\n",
    "    s=a+b\n",
    "    print(s)\n",
    "    a=s-a\n",
    "    b=s\n",
    "    j=j+1\n"
   ]
  },
  {
   "cell_type": "code",
   "execution_count": 2,
   "metadata": {},
   "outputs": [
    {
     "name": "stdout",
     "output_type": "stream",
     "text": [
      "10\n",
      "skladne \n"
     ]
    }
   ],
   "source": [
    "i=2\n",
    "N=int(input())\n",
    "while i<N:\n",
    "    if N%i==0:\n",
    "        print('skladne ')\n",
    "        break\n",
    "    else:\n",
    "        print(\"proste\")\n",
    "        break\n",
    "    i=i+1"
   ]
  },
  {
   "cell_type": "code",
   "execution_count": null,
   "metadata": {},
   "outputs": [],
   "source": []
  }
 ],
 "metadata": {
  "kernelspec": {
   "display_name": "Python 3",
   "language": "python",
   "name": "python3"
  },
  "language_info": {
   "codemirror_mode": {
    "name": "ipython",
    "version": 3
   },
   "file_extension": ".py",
   "mimetype": "text/x-python",
   "name": "python",
   "nbconvert_exporter": "python",
   "pygments_lexer": "ipython3",
   "version": "3.7.6"
  }
 },
 "nbformat": 4,
 "nbformat_minor": 4
}
